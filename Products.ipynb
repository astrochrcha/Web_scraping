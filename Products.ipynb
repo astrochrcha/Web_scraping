{
 "cells": [
  {
   "cell_type": "code",
   "execution_count": 1,
   "metadata": {},
   "outputs": [
    {
     "name": "stderr",
     "output_type": "stream",
     "text": [
      "<ipython-input-1-886ae64802bf>:18: DeprecationWarning: executable_path has been deprecated, please pass in a Service object\n",
      "  driver = webdriver.Chrome(PATH)\n"
     ]
    }
   ],
   "source": [
    "from email.headerregistry import Address\n",
    "from unicodedata import name\n",
    "from bs4 import BeautifulSoup\n",
    "import re\n",
    "import requests\n",
    "import time\n",
    "import pandas as pd\n",
    "import numpy as np\n",
    "import selenium\n",
    "from selenium import webdriver\n",
    "from selenium.webdriver.common.by import By\n",
    "from selenium.webdriver.support.ui import WebDriverWait\n",
    "from selenium.webdriver.support import expected_conditions as EC\n",
    "from selenium.webdriver.common.keys import Keys\n",
    "#html_txt = requests.get('https://www.1mg.com/manufacturer/patanjali-ayurved-limited-74013?pageNumber=2').text\n",
    "#soup = BeautifulSoup(html_txt,'lxml')\n",
    "PATH = r'C:\\Users\\khush\\OneDrive\\Documents\\chromedriver_win32\\chromedriver.exe'\n",
    "driver = webdriver.Chrome(PATH)"
   ]
  },
  {
   "cell_type": "code",
   "execution_count": 2,
   "metadata": {},
   "outputs": [],
   "source": [
    "link = driver.get(r'https://www.1mg.com/manufacturer/patanjali-ayurved-limited-74013?pageNumber=2')\n",
    "page_source = driver.page_source"
   ]
  },
  {
   "cell_type": "code",
   "execution_count": 3,
   "metadata": {},
   "outputs": [],
   "source": [
    "soup = BeautifulSoup(page_source,'lxml')"
   ]
  },
  {
   "cell_type": "code",
   "execution_count": 30,
   "metadata": {},
   "outputs": [],
   "source": [
    "title = []\n",
    "Description = []\n",
    "Manufacturer_Address = []\n",
    "image_link = []\n",
    "key = []"
   ]
  },
  {
   "cell_type": "code",
   "execution_count": 60,
   "metadata": {},
   "outputs": [],
   "source": [
    "link = soup.find_all('div',class_='col-sm-3 col-xs-6')\n",
    "for one_link in link:\n",
    "    one = one_link.a['href']\n",
    "    mainlink = (\"https://www.1mg.com\"+one)\n",
    "    another_link = driver.get(mainlink)\n",
    "    next_page_source = driver.page_source\n",
    "    next_soup = BeautifulSoup(next_page_source,'lxml')\n",
    "    Ptitle = next_soup.find('h1',class_='ProductTitle__product-title___3QMYH').text\n",
    "    PDescription = next_soup.find('div',class_='ProductDescription__description-content___A_qCZ').text\n",
    "    PManufacturer_address = next_soup.find('div',class_='OtcPage__manufacturer-address___3ugdE').text\n",
    "    images = next_soup.find('img', class_ = 'Thumbnail__thumbnail-image-new___3rsF_')\n",
    "    #Pkey =next_soup.find('div',class_='style__title___25vLm')\n",
    "    title.append(Ptitle)\n",
    "    Description.append(PDescription)\n",
    "    Manufacturer_Address.append(PManufacturer_address)\n",
    "    #key.append(Pkey)\n",
    "    #image_link.append(images['src'])"
   ]
  },
  {
   "cell_type": "code",
   "execution_count": 56,
   "metadata": {},
   "outputs": [
    {
     "data": {
      "text/html": [
       "<div>\n",
       "<style scoped>\n",
       "    .dataframe tbody tr th:only-of-type {\n",
       "        vertical-align: middle;\n",
       "    }\n",
       "\n",
       "    .dataframe tbody tr th {\n",
       "        vertical-align: top;\n",
       "    }\n",
       "\n",
       "    .dataframe thead th {\n",
       "        text-align: right;\n",
       "    }\n",
       "</style>\n",
       "<table border=\"1\" class=\"dataframe\">\n",
       "  <thead>\n",
       "    <tr style=\"text-align: right;\">\n",
       "      <th></th>\n",
       "      <th>Title</th>\n",
       "      <th>Description</th>\n",
       "      <th>Address</th>\n",
       "    </tr>\n",
       "  </thead>\n",
       "  <tbody>\n",
       "    <tr>\n",
       "      <th>0</th>\n",
       "      <td>Patanjali Ayurveda Tejus Tailum</td>\n",
       "      <td>Patanjali Ayurveda Tejus is herbal body lotion...</td>\n",
       "      <td>D-26, PUSHPANJALI, BIJWASAN ENCLAVE, NEW DELHI...</td>\n",
       "    </tr>\n",
       "    <tr>\n",
       "      <th>1</th>\n",
       "      <td>Patanjali Ayurveda Tulsi Panchang Juice</td>\n",
       "      <td>Patanjali Tulsi Panchang Juice contains 9.97ml...</td>\n",
       "      <td>D-26, PUSHPANJALI, BIJWASAN ENCLAVE, NEW DELHI...</td>\n",
       "    </tr>\n",
       "    <tr>\n",
       "      <th>2</th>\n",
       "      <td>Patanjali Dant Kanti Natural Toothpaste 200gm,...</td>\n",
       "      <td>Patanjali Dant Kanti Natural Toothpaste 200gm,...</td>\n",
       "      <td>D-26, PUSHPANJALI, BIJWASAN ENCLAVE, NEW DELHI...</td>\n",
       "    </tr>\n",
       "    <tr>\n",
       "      <th>3</th>\n",
       "      <td>Patanjali Honey</td>\n",
       "      <td>Patanjali Honey is a sweet ailment produced by...</td>\n",
       "      <td>D-26, PUSHPANJALI, BIJWASAN ENCLAVE, NEW DELHI...</td>\n",
       "    </tr>\n",
       "    <tr>\n",
       "      <th>4</th>\n",
       "      <td>Patanjali Honey</td>\n",
       "      <td>Patanjali Honey is a sweet ailment produced by...</td>\n",
       "      <td>D-26, PUSHPANJALI, BIJWASAN ENCLAVE, NEW DELHI...</td>\n",
       "    </tr>\n",
       "  </tbody>\n",
       "</table>\n",
       "</div>"
      ],
      "text/plain": [
       "                                               Title  \\\n",
       "0                    Patanjali Ayurveda Tejus Tailum   \n",
       "1            Patanjali Ayurveda Tulsi Panchang Juice   \n",
       "2  Patanjali Dant Kanti Natural Toothpaste 200gm,...   \n",
       "3                                    Patanjali Honey   \n",
       "4                                    Patanjali Honey   \n",
       "\n",
       "                                         Description  \\\n",
       "0  Patanjali Ayurveda Tejus is herbal body lotion...   \n",
       "1  Patanjali Tulsi Panchang Juice contains 9.97ml...   \n",
       "2  Patanjali Dant Kanti Natural Toothpaste 200gm,...   \n",
       "3  Patanjali Honey is a sweet ailment produced by...   \n",
       "4  Patanjali Honey is a sweet ailment produced by...   \n",
       "\n",
       "                                             Address  \n",
       "0  D-26, PUSHPANJALI, BIJWASAN ENCLAVE, NEW DELHI...  \n",
       "1  D-26, PUSHPANJALI, BIJWASAN ENCLAVE, NEW DELHI...  \n",
       "2  D-26, PUSHPANJALI, BIJWASAN ENCLAVE, NEW DELHI...  \n",
       "3  D-26, PUSHPANJALI, BIJWASAN ENCLAVE, NEW DELHI...  \n",
       "4  D-26, PUSHPANJALI, BIJWASAN ENCLAVE, NEW DELHI...  "
      ]
     },
     "execution_count": 56,
     "metadata": {},
     "output_type": "execute_result"
    }
   ],
   "source": [
    "df1 = pd.DataFrame({'Title':title,'Description':Description,'Address':Manufacturer_Address})\n",
    "df1.head()"
   ]
  },
  {
   "cell_type": "code",
   "execution_count": null,
   "metadata": {},
   "outputs": [],
   "source": []
  },
  {
   "cell_type": "code",
   "execution_count": null,
   "metadata": {},
   "outputs": [],
   "source": []
  },
  {
   "cell_type": "code",
   "execution_count": null,
   "metadata": {},
   "outputs": [],
   "source": []
  },
  {
   "cell_type": "code",
   "execution_count": null,
   "metadata": {},
   "outputs": [],
   "source": []
  },
  {
   "cell_type": "code",
   "execution_count": null,
   "metadata": {},
   "outputs": [],
   "source": []
  },
  {
   "cell_type": "code",
   "execution_count": null,
   "metadata": {},
   "outputs": [],
   "source": []
  },
  {
   "cell_type": "code",
   "execution_count": null,
   "metadata": {},
   "outputs": [],
   "source": [
    "//////////////////////////////////////////////////////////////////////////"
   ]
  },
  {
   "cell_type": "code",
   "execution_count": 17,
   "metadata": {},
   "outputs": [],
   "source": [
    "link = driver.get(r'https://www.1mg.com/otc/patanjali-ayurveda-dant-kanti-natural-toothpaste-otc501374')\n",
    "page_source = driver.page_source"
   ]
  },
  {
   "cell_type": "code",
   "execution_count": 18,
   "metadata": {},
   "outputs": [
    {
     "data": {
      "text/plain": [
       "[<div class=\"ProductTitle__manufacturer___sTfon\"><a href=\"/manufacturer/patanjali-ayurved-limited-74013\">Patanjali Ayurved Limited</a></div>]"
      ]
     },
     "execution_count": 18,
     "metadata": {},
     "output_type": "execute_result"
    }
   ],
   "source": [
    "soup = BeautifulSoup(page_source,'lxml')\n",
    "txt = soup.find_all('div',class_='ProductTitle__manufacturer___sTfon')\n",
    "txt"
   ]
  },
  {
   "cell_type": "code",
   "execution_count": 14,
   "metadata": {},
   "outputs": [
    {
     "data": {
      "text/plain": [
       "[<h1 class=\"ProductTitle__product-title___3QMYH\">Shelcal -250 Tablet</h1>]"
      ]
     },
     "execution_count": 14,
     "metadata": {},
     "output_type": "execute_result"
    }
   ],
   "source": [
    "soup.find_all('h1',class_='ProductTitle__product-title___3QMYH')"
   ]
  },
  {
   "cell_type": "code",
   "execution_count": 41,
   "metadata": {},
   "outputs": [
    {
     "data": {
      "text/plain": [
       "[<div class=\"ProductDescription__description-content___A_qCZ\"><strong>Shelcal 250mg Tablet</strong> contains Calcium 250mg and Vitamin D3 125 IU as active ingredients. It is indicated to people who have calcium deficiency. Calcium is needed by the body to not only allow the heart, muscles and nerves to function properly but along with vitamin D it improves the bone health drastically. Calcium deficiency leads to weak bones as the body starts using calcium from the bone. These tablets fulfil the daily calcium requirement of the body.<br/><br/><strong>Key Ingredients:</strong><br/><ul><li>Calcium</li></ul><ul><li>Vitamin D3</li></ul><br/><strong>Key Benefits:</strong><br/><ul><li><strong>Calcium: </strong>Plays a vital role in the body as it is necessary for normal functioning of nerves, cells, muscle, and bone. Thus intake of calcium is necessary to keep the bones strong</li></ul><ul><li><strong>Vitamin D3:</strong> Helps the body to absorb calcium and phosphorus. The right amount of vitamin D, calcium, and phosphorus is important for building and keeping strong bones</li></ul><ul><li>Also used in osteoporosis and postmenopausal phase osteoporosis</li></ul> <br/><strong>Direction For Use:</strong><br/>Use as directed by the physician.<br/> <br/><strong> </strong><br/><strong>Safety Information:</strong><br/><ul><li>Do not exceed the recommended dose</li></ul><ul><li>Read the label carefully before use</li></ul><ul><li>Keep out of the reach and sight of children</li></ul><ul><li>Use under medical supervision</li></ul><br/><strong>FAQs:</strong><br/><strong>Q.</strong> Is it safe to take Shelcal 250 alongside other medications?<br/>While it has no known complications, it still best advised to consult your doctor if you're medicating, breastfeeding or pregnant.<br/><br/><strong>Q.</strong> When is Shelcal 250 indicated?<br/>Shelcal 250 is indicated in calcium deficiency, weak bone strength, osteoporosis and postmenopausal phase osteoporosis.<br/><br/><strong>Q.</strong> Is it safe to take Shelcal 250 and does it have any side effects?<br/>Yes it is safe to take Shelcal 250 under a prescription and while there are no known side effects, it is still best advised to not exceed the recommended dosage and if complications occur, stop the use immediately and consult the doctor.</div>]"
      ]
     },
     "execution_count": 41,
     "metadata": {},
     "output_type": "execute_result"
    }
   ],
   "source": [
    "soup.find_all('div',class_='ProductDescription__description-content___A_qCZ')"
   ]
  },
  {
   "cell_type": "code",
   "execution_count": 42,
   "metadata": {},
   "outputs": [
    {
     "data": {
      "text/plain": [
       "[<div class=\"OtcPage__manufacturer-address___3ugdE\">Off. Ashram Road, Ahmedabad - 380 009., Gujarat, India</div>]"
      ]
     },
     "execution_count": 42,
     "metadata": {},
     "output_type": "execute_result"
    }
   ],
   "source": [
    "soup.find_all('div',class_='OtcPage__manufacturer-address___3ugdE')"
   ]
  },
  {
   "cell_type": "code",
   "execution_count": 43,
   "metadata": {},
   "outputs": [
    {
     "data": {
      "text/plain": [
       "[<img alt=\"thumbnail\" class=\"Thumbnail__thumbnail-image-new___3rsF_\" src=\"https://onemg.gumlet.io/image/upload/l_watermark_346,w_120,h_120/a_ignore,w_120,h_120,c_fit,q_auto,f_auto/v1600102140/cropped/k1lqovzk5epm7hqwqwaq.jpg\" title=\"Shelcal -250 Tablet\"/>,\n",
       " <img alt=\"thumbnail\" class=\"Thumbnail__thumbnail-image-new___3rsF_\" src=\"https://onemg.gumlet.io/image/upload/l_watermark_346,w_120,h_120/a_ignore,w_120,h_120,c_fit,q_auto,f_auto/v1600102145/cropped/gpz7kfwrtppn6byfiz5z.jpg\" title=\"Shelcal -250 Tablet\"/>,\n",
       " <img alt=\"thumbnail\" class=\"Thumbnail__thumbnail-image-new___3rsF_\" src=\"https://onemg.gumlet.io/image/upload/l_watermark_346,w_120,h_120/a_ignore,w_120,h_120,c_fit,q_auto,f_auto/v1600102150/cropped/aimsbzpkxnvmyns7nqkd.jpg\" title=\"Shelcal -250 Tablet\"/>,\n",
       " <img alt=\"thumbnail\" class=\"Thumbnail__thumbnail-image-new___3rsF_\" src=\"https://onemg.gumlet.io/image/upload/l_watermark_346,w_120,h_120/a_ignore,w_120,h_120,c_fit,q_auto,f_auto/v1600102154/cropped/xhvvy1n1ds7q9zczgflf.jpg\" title=\"Shelcal -250 Tablet\"/>,\n",
       " <img alt=\"thumbnail\" class=\"Thumbnail__thumbnail-image-new___3rsF_\" src=\"https://onemg.gumlet.io/image/upload/l_watermark_346,w_120,h_120/a_ignore,w_120,h_120,c_fit,q_auto,f_auto/v1600102160/cropped/xyiwbiigld6lalcsnwuh.jpg\" title=\"Shelcal -250 Tablet\"/>,\n",
       " <img alt=\"thumbnail\" class=\"Thumbnail__thumbnail-image-new___3rsF_\" src=\"https://onemg.gumlet.io/image/upload/l_watermark_346,w_120,h_120/a_ignore,w_120,h_120,c_fit,q_auto,f_auto/v1600102165/cropped/xyee16uz0kutszi7o2bk.jpg\" title=\"Shelcal -250 Tablet\"/>]"
      ]
     },
     "execution_count": 43,
     "metadata": {},
     "output_type": "execute_result"
    }
   ],
   "source": [
    "soup.find_all('img',class_='Thumbnail__thumbnail-image-new___3rsF_')"
   ]
  },
  {
   "cell_type": "code",
   "execution_count": 44,
   "metadata": {},
   "outputs": [
    {
     "data": {
      "text/plain": [
       "[]"
      ]
     },
     "execution_count": 44,
     "metadata": {},
     "output_type": "execute_result"
    }
   ],
   "source": [
    "soup.find_all('div',class_='ProductHighlights__highlights-text___dc-WQ\"')"
   ]
  },
  {
   "cell_type": "code",
   "execution_count": null,
   "metadata": {},
   "outputs": [],
   "source": [
    "links = soup.find_all(\"div\", {\"id\": \"srchRslt\"})\n",
    "links"
   ]
  },
  {
   "cell_type": "code",
   "execution_count": 19,
   "metadata": {},
   "outputs": [
    {
     "data": {
      "text/plain": [
       "[<div class=\"style__title___25vLm\">Akarkara</div>,\n",
       " <div class=\"style__title___25vLm\">Neem</div>,\n",
       " <div class=\"style__title___25vLm\">Babool</div>]"
      ]
     },
     "execution_count": 19,
     "metadata": {},
     "output_type": "execute_result"
    }
   ],
   "source": [
    "key = soup.find_all('div',class_='style__title___25vLm')\n",
    "key"
   ]
  },
  {
   "cell_type": "code",
   "execution_count": null,
   "metadata": {},
   "outputs": [],
   "source": []
  }
 ],
 "metadata": {
  "kernelspec": {
   "display_name": "Python 3",
   "language": "python",
   "name": "python3"
  },
  "language_info": {
   "codemirror_mode": {
    "name": "ipython",
    "version": 3
   },
   "file_extension": ".py",
   "mimetype": "text/x-python",
   "name": "python",
   "nbconvert_exporter": "python",
   "pygments_lexer": "ipython3",
   "version": "3.8.5"
  }
 },
 "nbformat": 4,
 "nbformat_minor": 4
}
